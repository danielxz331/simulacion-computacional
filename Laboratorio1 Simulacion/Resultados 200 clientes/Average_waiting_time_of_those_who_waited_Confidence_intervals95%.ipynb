{
  "nbformat": 4,
  "nbformat_minor": 0,
  "metadata": {
    "colab": {
      "provenance": []
    },
    "kernelspec": {
      "name": "python3",
      "display_name": "Python 3"
    },
    "language_info": {
      "name": "python"
    }
  },
  "cells": [
    {
      "cell_type": "markdown",
      "metadata": {
        "id": "2UCFnlVTpIEJ"
      },
      "source": [
        "# Confidence intervals"
      ]
    },
    {
      "cell_type": "code",
      "metadata": {
        "id": "R-NCLZBhprux"
      },
      "source": [
        "import numpy as np\n",
        "from scipy import stats\n",
        "from IPython.display import display, Markdown"
      ],
      "execution_count": 1,
      "outputs": []
    },
    {
      "cell_type": "code",
      "metadata": {
        "id": "n6syE4bapOgy",
        "outputId": "0ce58906-4128-4673-fd5e-bcb84d2a288e",
        "colab": {
          "base_uri": "https://localhost:8080/"
        }
      },
      "source": [
        "# M = [63.2, 69.7, 67.3, 64.8, 72]\n",
        "M = [2.94, 4.80, 3.48, 3.29, 4.43, 3.28, 3.72, 3.69, 4.41, 2.96]\n",
        "\n",
        "reps = len(M)\n",
        "\n",
        "print(\"Rep.\\tAvg Time\")\n",
        "for i in range(0, len(M)):\n",
        "    print(\"%d\\t%g\" % (i+1,M[i]), sep=' ', end='\\n')"
      ],
      "execution_count": 25,
      "outputs": [
        {
          "output_type": "stream",
          "name": "stdout",
          "text": [
            "Rep.\tAvg Time\n",
            "1\t2.94\n",
            "2\t4.8\n",
            "3\t3.48\n",
            "4\t3.29\n",
            "5\t4.43\n",
            "6\t3.28\n",
            "7\t3.72\n",
            "8\t3.69\n",
            "9\t4.41\n",
            "10\t2.96\n"
          ]
        }
      ]
    },
    {
      "cell_type": "code",
      "metadata": {
        "id": "f9hEOLlLo_2X",
        "outputId": "f0166978-f177-47f1-de0f-55bbb41264b9",
        "colab": {
          "base_uri": "https://localhost:8080/",
          "height": 187
        }
      },
      "source": [
        "alpha = 0.05\n",
        "confidence = (1-alpha)*100\n",
        "\n",
        "mean = np.mean(M)\n",
        "var = np.var(M,ddof=1)\n",
        "desv = np.sqrt(var)\n",
        "\n",
        "tval = stats.t.ppf(1-(alpha/2), reps-1)\n",
        "hval = tval*(desv/np.sqrt(reps))\n",
        "\n",
        "display(Markdown(\n",
        "   rf\"\"\"\n",
        "${confidence}\\%$ confidence\n",
        "\n",
        "$\\bar{{X}} = {mean}$\n",
        "\n",
        "$S = {desv}$\n",
        "\n",
        "$t_{{n-1,1-\\frac{{\\alpha}}{2}}} = t_{{{reps-1},{1-alpha/2}}} ={tval}$\n",
        "\n",
        "$h = {hval}$\n",
        "\n",
        "Intervalo de confianza : $C.I. = (\\bar{{X}}-h , \\bar{{X}} + h) = ({mean-hval},{mean+hval})$\n",
        "\n",
        "\"\"\"))\n"
      ],
      "execution_count": 27,
      "outputs": [
        {
          "output_type": "display_data",
          "data": {
            "text/plain": [
              "<IPython.core.display.Markdown object>"
            ],
            "text/markdown": "\n$95.0\\%$ confidence\n\n$\\bar{X} = 3.7$\n\n$S = 0.6468384651518492$\n\n$t_{n-1,1-\\frac{\\alpha}2} = t_{9,0.975} =2.2621571627409915$\n\n$h = 0.46272036308213754$\n\nIntervalo de confianza : $C.I. = (\\bar{X}-h , \\bar{X} + h) = (3.2372796369178625,4.162720363082138)$\n\n"
          },
          "metadata": {}
        }
      ]
    },
    {
      "cell_type": "code",
      "source": [],
      "metadata": {
        "id": "AnmuKrvRI8la"
      },
      "execution_count": null,
      "outputs": []
    }
  ]
}