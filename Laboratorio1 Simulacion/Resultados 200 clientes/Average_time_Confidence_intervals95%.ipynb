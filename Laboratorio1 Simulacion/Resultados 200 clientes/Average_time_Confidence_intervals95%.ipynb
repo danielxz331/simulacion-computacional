{
  "nbformat": 4,
  "nbformat_minor": 0,
  "metadata": {
    "colab": {
      "provenance": []
    },
    "kernelspec": {
      "name": "python3",
      "display_name": "Python 3"
    },
    "language_info": {
      "name": "python"
    }
  },
  "cells": [
    {
      "cell_type": "markdown",
      "metadata": {
        "id": "2UCFnlVTpIEJ"
      },
      "source": [
        "# Confidence intervals"
      ]
    },
    {
      "cell_type": "code",
      "metadata": {
        "id": "R-NCLZBhprux"
      },
      "source": [
        "import numpy as np\n",
        "from scipy import stats\n",
        "from IPython.display import display, Markdown"
      ],
      "execution_count": 10,
      "outputs": []
    },
    {
      "cell_type": "code",
      "metadata": {
        "id": "n6syE4bapOgy",
        "outputId": "029b84fe-8aea-414b-8783-d27f0a677562",
        "colab": {
          "base_uri": "https://localhost:8080/"
        }
      },
      "source": [
        "M = [4.3, 5.68, 4.99, 5, 5.42, 4.83, 4.43, 4.69, 5.42, 4.76]\n",
        "\n",
        "reps = len(M)\n",
        "\n",
        "print(\"Rep.\\tAvg Time\")\n",
        "for i in range(0, len(M)):\n",
        "    print(\"%d\\t%g\" % (i+1,M[i]), sep=' ', end='\\n')"
      ],
      "execution_count": 11,
      "outputs": [
        {
          "output_type": "stream",
          "name": "stdout",
          "text": [
            "Rep.\tAvg Time\n",
            "1\t4.3\n",
            "2\t5.68\n",
            "3\t4.99\n",
            "4\t5\n",
            "5\t5.42\n",
            "6\t4.83\n",
            "7\t4.43\n",
            "8\t4.69\n",
            "9\t5.42\n",
            "10\t4.76\n"
          ]
        }
      ]
    },
    {
      "cell_type": "code",
      "metadata": {
        "id": "f9hEOLlLo_2X",
        "outputId": "2b0b85a9-4dda-4d05-89e3-0417a88b8455",
        "colab": {
          "base_uri": "https://localhost:8080/",
          "height": 187
        }
      },
      "source": [
        "alpha = 0.05\n",
        "confidence = (1-alpha)*100\n",
        "\n",
        "mean = np.mean(M)\n",
        "var = np.var(M,ddof=1)\n",
        "desv = np.sqrt(var)\n",
        "\n",
        "tval = stats.t.ppf(1-(alpha/2), reps-1)\n",
        "hval = tval*(desv/np.sqrt(reps))\n",
        "\n",
        "display(Markdown(\n",
        "   rf\"\"\"\n",
        "${confidence}\\%$ confidence\n",
        "\n",
        "$\\bar{{X}} = {mean}$\n",
        "\n",
        "$S = {desv}$\n",
        "\n",
        "$t_{{n-1,1-\\frac{{\\alpha}}{2}}} = t_{{{reps-1},{1-alpha/2}}} ={tval}$\n",
        "\n",
        "$h = {hval}$\n",
        "\n",
        "Intervalo de confianza : $C.I. = (\\bar{{X}}-h , \\bar{{X}} + h) = ({mean-hval},{mean+hval})$\n",
        "\n",
        "\"\"\"))\n"
      ],
      "execution_count": 12,
      "outputs": [
        {
          "output_type": "display_data",
          "data": {
            "text/plain": [
              "<IPython.core.display.Markdown object>"
            ],
            "text/markdown": "\n$95.0\\%$ confidence\n\n$\\bar{X} = 4.952$\n\n$S = 0.44593970693606344$\n\n$t_{n-1,1-\\frac{\\alpha}2} = t_{9,0.975} =2.2621571627409915$\n\n$h = 0.31900604899517915$\n\nIntervalo de confianza : $C.I. = (\\bar{X}-h , \\bar{X} + h) = (4.632993951004821,5.271006048995179)$\n\n"
          },
          "metadata": {}
        }
      ]
    },
    {
      "cell_type": "code",
      "source": [],
      "metadata": {
        "id": "AnmuKrvRI8la"
      },
      "execution_count": null,
      "outputs": []
    }
  ]
}