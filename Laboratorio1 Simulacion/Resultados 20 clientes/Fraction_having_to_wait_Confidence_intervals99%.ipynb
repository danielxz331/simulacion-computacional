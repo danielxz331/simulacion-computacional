{
  "nbformat": 4,
  "nbformat_minor": 0,
  "metadata": {
    "colab": {
      "provenance": []
    },
    "kernelspec": {
      "name": "python3",
      "display_name": "Python 3"
    },
    "language_info": {
      "name": "python"
    }
  },
  "cells": [
    {
      "cell_type": "markdown",
      "metadata": {
        "id": "2UCFnlVTpIEJ"
      },
      "source": [
        "# Confidence intervals"
      ]
    },
    {
      "cell_type": "code",
      "metadata": {
        "id": "R-NCLZBhprux"
      },
      "source": [
        "import numpy as np\n",
        "from scipy import stats\n",
        "from IPython.display import display, Markdown"
      ],
      "execution_count": 1,
      "outputs": []
    },
    {
      "cell_type": "code",
      "metadata": {
        "id": "n6syE4bapOgy",
        "outputId": "79a7334e-4fc3-414e-80a1-03fa49f937f5",
        "colab": {
          "base_uri": "https://localhost:8080/"
        }
      },
      "source": [
        "# M = [63.2, 69.7, 67.3, 64.8, 72]\n",
        "M = [0.6, 0.2, 0.1, 0.5, 0.3, 0.6, 0.2, 0.4, 0.5, 0.25]\n",
        "\n",
        "reps = len(M)\n",
        "\n",
        "print(\"Rep.\\tAvg Time\")\n",
        "for i in range(0, len(M)):\n",
        "    print(\"%d\\t%g\" % (i+1,M[i]), sep=' ', end='\\n')"
      ],
      "execution_count": 19,
      "outputs": [
        {
          "output_type": "stream",
          "name": "stdout",
          "text": [
            "Rep.\tAvg Time\n",
            "1\t0.6\n",
            "2\t0.2\n",
            "3\t0.1\n",
            "4\t0.5\n",
            "5\t0.3\n",
            "6\t0.6\n",
            "7\t0.2\n",
            "8\t0.4\n",
            "9\t0.5\n",
            "10\t0.25\n"
          ]
        }
      ]
    },
    {
      "cell_type": "code",
      "metadata": {
        "id": "f9hEOLlLo_2X",
        "outputId": "041db600-14bd-423f-d87f-e9606c9ffae2",
        "colab": {
          "base_uri": "https://localhost:8080/",
          "height": 187
        }
      },
      "source": [
        "alpha = 0.01\n",
        "confidence = (1-alpha)*100\n",
        "\n",
        "mean = np.mean(M)\n",
        "var = np.var(M,ddof=1)\n",
        "desv = np.sqrt(var)\n",
        "\n",
        "tval = stats.t.ppf(1-(alpha/2), reps-1)\n",
        "hval = tval*(desv/np.sqrt(reps))\n",
        "\n",
        "display(Markdown(\n",
        "   rf\"\"\"\n",
        "${confidence}\\%$ confidence\n",
        "\n",
        "$\\bar{{X}} = {mean}$\n",
        "\n",
        "$S = {desv}$\n",
        "\n",
        "$t_{{n-1,1-\\frac{{\\alpha}}{2}}} = t_{{{reps-1},{1-alpha/2}}} ={tval}$\n",
        "\n",
        "$h = {hval}$\n",
        "\n",
        "Intervalo de confianza : $C.I. = (\\bar{{X}}-h , \\bar{{X}} + h) = ({mean-hval},{mean+hval})$\n",
        "\n",
        "\"\"\"))\n"
      ],
      "execution_count": 21,
      "outputs": [
        {
          "output_type": "display_data",
          "data": {
            "text/plain": [
              "<IPython.core.display.Markdown object>"
            ],
            "text/markdown": "\n$99.0\\%$ confidence\n\n$\\bar{X} = 0.365$\n\n$S = 0.1795828499606797$\n\n$t_{n-1,1-\\frac{\\alpha}2} = t_{9,0.995} =3.2498355440153697$\n\n$h = 0.18455518193387252$\n\nIntervalo de confianza : $C.I. = (\\bar{X}-h , \\bar{X} + h) = (0.18044481806612747,0.5495551819338725)$\n\n"
          },
          "metadata": {}
        }
      ]
    },
    {
      "cell_type": "code",
      "source": [],
      "metadata": {
        "id": "AnmuKrvRI8la"
      },
      "execution_count": null,
      "outputs": []
    }
  ]
}