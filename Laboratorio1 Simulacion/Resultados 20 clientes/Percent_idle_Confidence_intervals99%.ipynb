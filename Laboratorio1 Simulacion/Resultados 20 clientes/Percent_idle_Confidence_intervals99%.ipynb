{
  "nbformat": 4,
  "nbformat_minor": 0,
  "metadata": {
    "colab": {
      "provenance": []
    },
    "kernelspec": {
      "name": "python3",
      "display_name": "Python 3"
    },
    "language_info": {
      "name": "python"
    }
  },
  "cells": [
    {
      "cell_type": "markdown",
      "metadata": {
        "id": "2UCFnlVTpIEJ"
      },
      "source": [
        "# Confidence intervals"
      ]
    },
    {
      "cell_type": "code",
      "metadata": {
        "id": "R-NCLZBhprux"
      },
      "source": [
        "import numpy as np\n",
        "from scipy import stats\n",
        "from IPython.display import display, Markdown"
      ],
      "execution_count": 1,
      "outputs": []
    },
    {
      "cell_type": "code",
      "metadata": {
        "id": "n6syE4bapOgy",
        "outputId": "f3f5bd94-c750-42d5-8ccc-a28cbec67d50",
        "colab": {
          "base_uri": "https://localhost:8080/"
        }
      },
      "source": [
        "# M = [63.2, 69.7, 67.3, 64.8, 72]\n",
        "M = [14.13, 40.71, 42.74, 26.21, 39.80, 28.30, 41.51, 35.11, 22.77, 48.09]\n",
        "\n",
        "reps = len(M)\n",
        "\n",
        "print(\"Rep.\\tAvg Time\")\n",
        "for i in range(0, len(M)):\n",
        "    print(\"%d\\t%g\" % (i+1,M[i]), sep=' ', end='\\n')"
      ],
      "execution_count": 5,
      "outputs": [
        {
          "output_type": "stream",
          "name": "stdout",
          "text": [
            "Rep.\tAvg Time\n",
            "1\t14.13\n",
            "2\t40.71\n",
            "3\t42.74\n",
            "4\t26.21\n",
            "5\t39.8\n",
            "6\t28.3\n",
            "7\t41.51\n",
            "8\t35.11\n",
            "9\t22.77\n",
            "10\t48.09\n"
          ]
        }
      ]
    },
    {
      "cell_type": "code",
      "metadata": {
        "id": "f9hEOLlLo_2X",
        "outputId": "f8311be6-41ee-4213-db44-d947228599df",
        "colab": {
          "base_uri": "https://localhost:8080/",
          "height": 187
        }
      },
      "source": [
        "alpha = 0.01\n",
        "confidence = (1-alpha)*100\n",
        "\n",
        "mean = np.mean(M)\n",
        "var = np.var(M,ddof=1)\n",
        "desv = np.sqrt(var)\n",
        "\n",
        "tval = stats.t.ppf(1-(alpha/2), reps-1)\n",
        "hval = tval*(desv/np.sqrt(reps))\n",
        "\n",
        "display(Markdown(\n",
        "   rf\"\"\"\n",
        "${confidence}\\%$ confidence\n",
        "\n",
        "$\\bar{{X}} = {mean}$\n",
        "\n",
        "$S = {desv}$\n",
        "\n",
        "$t_{{n-1,1-\\frac{{\\alpha}}{2}}} = t_{{{reps-1},{1-alpha/2}}} ={tval}$\n",
        "\n",
        "$h = {hval}$\n",
        "\n",
        "Intervalo de confianza : $C.I. = (\\bar{{X}}-h , \\bar{{X}} + h) = ({mean-hval},{mean+hval})$\n",
        "\n",
        "\"\"\"))\n"
      ],
      "execution_count": 7,
      "outputs": [
        {
          "output_type": "display_data",
          "data": {
            "text/plain": [
              "<IPython.core.display.Markdown object>"
            ],
            "text/markdown": "\n$99.0\\%$ confidence\n\n$\\bar{X} = 33.937$\n\n$S = 10.673311524025188$\n\n$t_{n-1,1-\\frac{\\alpha}2} = t_{9,0.995} =3.2498355440153697$\n\n$h = 10.968836671122354$\n\nIntervalo de confianza : $C.I. = (\\bar{X}-h , \\bar{X} + h) = (22.968163328877644,44.90583667112235)$\n\n"
          },
          "metadata": {}
        }
      ]
    },
    {
      "cell_type": "code",
      "source": [],
      "metadata": {
        "id": "AnmuKrvRI8la"
      },
      "execution_count": null,
      "outputs": []
    }
  ]
}