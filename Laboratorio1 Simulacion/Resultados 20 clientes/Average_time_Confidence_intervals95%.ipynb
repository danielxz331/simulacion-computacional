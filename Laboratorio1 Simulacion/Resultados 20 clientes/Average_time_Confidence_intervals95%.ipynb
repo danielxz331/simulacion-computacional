{
  "nbformat": 4,
  "nbformat_minor": 0,
  "metadata": {
    "colab": {
      "provenance": []
    },
    "kernelspec": {
      "name": "python3",
      "display_name": "Python 3"
    },
    "language_info": {
      "name": "python"
    }
  },
  "cells": [
    {
      "cell_type": "markdown",
      "metadata": {
        "id": "2UCFnlVTpIEJ"
      },
      "source": [
        "# Confidence intervals"
      ]
    },
    {
      "cell_type": "code",
      "metadata": {
        "id": "R-NCLZBhprux"
      },
      "source": [
        "import numpy as np\n",
        "from scipy import stats\n",
        "from IPython.display import display, Markdown"
      ],
      "execution_count": 6,
      "outputs": []
    },
    {
      "cell_type": "code",
      "metadata": {
        "id": "n6syE4bapOgy",
        "outputId": "9e8aea32-715d-47ef-8b1f-a33dea5af3be",
        "colab": {
          "base_uri": "https://localhost:8080/"
        }
      },
      "source": [
        "M = [7.15, 3.8, 3.75, 5.05, 3.75, 7.6, 3.7, 4.3, 7.05, 3.9]\n",
        "\n",
        "reps = len(M)\n",
        "\n",
        "print(\"Rep.\\tAvg Time\")\n",
        "for i in range(0, len(M)):\n",
        "    print(\"%d\\t%g\" % (i+1,M[i]), sep=' ', end='\\n')"
      ],
      "execution_count": 7,
      "outputs": [
        {
          "output_type": "stream",
          "name": "stdout",
          "text": [
            "Rep.\tAvg Time\n",
            "1\t7.15\n",
            "2\t3.8\n",
            "3\t3.75\n",
            "4\t5.05\n",
            "5\t3.75\n",
            "6\t7.6\n",
            "7\t3.7\n",
            "8\t4.3\n",
            "9\t7.05\n",
            "10\t3.9\n"
          ]
        }
      ]
    },
    {
      "cell_type": "code",
      "metadata": {
        "id": "f9hEOLlLo_2X",
        "outputId": "ed1b4ce3-f0a4-4dcc-d3d4-a9550fb7edd7",
        "colab": {
          "base_uri": "https://localhost:8080/",
          "height": 187
        }
      },
      "source": [
        "alpha = 0.05\n",
        "confidence = (1-alpha)*100\n",
        "\n",
        "mean = np.mean(M)\n",
        "var = np.var(M,ddof=1)\n",
        "desv = np.sqrt(var)\n",
        "\n",
        "tval = stats.t.ppf(1-(alpha/2), reps-1)\n",
        "hval = tval*(desv/np.sqrt(reps))\n",
        "\n",
        "display(Markdown(\n",
        "   rf\"\"\"\n",
        "${confidence}\\%$ confidence\n",
        "\n",
        "$\\bar{{X}} = {mean}$\n",
        "\n",
        "$S = {desv}$\n",
        "\n",
        "$t_{{n-1,1-\\frac{{\\alpha}}{2}}} = t_{{{reps-1},{1-alpha/2}}} ={tval}$\n",
        "\n",
        "$h = {hval}$\n",
        "\n",
        "Intervalo de confianza : $C.I. = (\\bar{{X}}-h , \\bar{{X}} + h) = ({mean-hval},{mean+hval})$\n",
        "\n",
        "\"\"\"))\n"
      ],
      "execution_count": 8,
      "outputs": [
        {
          "output_type": "display_data",
          "data": {
            "text/plain": [
              "<IPython.core.display.Markdown object>"
            ],
            "text/markdown": "\n$95.0\\%$ confidence\n\n$\\bar{X} = 5.005$\n\n$S = 1.6173452184229424$\n\n$t_{n-1,1-\\frac{\\alpha}2} = t_{9,0.975} =2.2621571627409915$\n\n$h = 1.1569790713082233$\n\nIntervalo de confianza : $C.I. = (\\bar{X}-h , \\bar{X} + h) = (3.848020928691777,6.161979071308223)$\n\n"
          },
          "metadata": {}
        }
      ]
    },
    {
      "cell_type": "code",
      "source": [],
      "metadata": {
        "id": "AnmuKrvRI8la"
      },
      "execution_count": null,
      "outputs": []
    }
  ]
}